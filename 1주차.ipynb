{
 "cells": [
  {
   "cell_type": "code",
   "execution_count": 8,
   "id": "e098bfd4",
   "metadata": {},
   "outputs": [
    {
     "name": "stdout",
     "output_type": "stream",
     "text": [
      "3\n",
      "40 80 60\n",
      "75.0\n"
     ]
    }
   ],
   "source": [
    "## 1546 평균\n",
    "\n",
    "a = int(input())\n",
    "arr = list(map(int, input().split()))\n",
    "m = max(arr)\n",
    "brr = []\n",
    "\n",
    "for i in range (a):\n",
    "    brr.append(arr[i]/m*100)\n",
    "    \n",
    "print(sum(brr)/a)\n",
    "\n",
    "## 입력 리스트로 받고, 평균을 낼 리스트를 하나 따로 만들어서 append하는 방식으로 풀었습니다."
   ]
  },
  {
   "cell_type": "code",
   "execution_count": 19,
   "id": "ff9cac85",
   "metadata": {},
   "outputs": [
    {
     "data": {
      "text/plain": [
       "[0, 5, 9, 12, 14, 15]"
      ]
     },
     "execution_count": 19,
     "metadata": {},
     "output_type": "execute_result"
    }
   ],
   "source": [
    "## 11659 구간합 구하기 4\n",
    "\n",
    "import sys\n",
    "\n",
    "n, m = map(int, input().split())\n",
    "arr = list(map(int, input().split()))\n",
    "brr = [0]\n",
    "for i in range (n):\n",
    "    brr.append(brr[i]+arr[i])\n",
    "        \n",
    "for i in range(m):\n",
    "    a, b = map(int, sys.stdin.readline().split())\n",
    "    print(brr[b]-brr[a-1])\n",
    "    \n",
    "## 스터디 시간에 말씀해주신 방식으로 풀었습니다.\n",
    "## 가령 3-5까지를 세려면 1-5 센 것에서 1-2를 빼야 하는 아이디어로 풀었습니다.\n",
    "\n",
    "## 추가로 시간초과를 막기 위해 빠른 입력을 사용했습니다."
   ]
  },
  {
   "cell_type": "code",
   "execution_count": 17,
   "id": "a40b792d",
   "metadata": {},
   "outputs": [
    {
     "name": "stdout",
     "output_type": "stream",
     "text": [
      "15\n",
      "4\n"
     ]
    }
   ],
   "source": [
    "## 2018 수들의 합 5\n",
    "\n",
    "n = int(input())\n",
    "a = b = s = 1\n",
    "\n",
    "count = 0\n",
    "\n",
    "while b <= n:\n",
    "    if s == n:\n",
    "        count += 1\n",
    "    \n",
    "    if s <= n:\n",
    "        b += 1\n",
    "        s += b\n",
    "    elif s > n:\n",
    "        s -= a\n",
    "        a += 1\n",
    "\n",
    "print(count)\n",
    "\n",
    "## 투포인터 기본 원리로 풀었습니다."
   ]
  },
  {
   "cell_type": "code",
   "execution_count": 53,
   "id": "5fe5d750",
   "metadata": {},
   "outputs": [
    {
     "name": "stdout",
     "output_type": "stream",
     "text": [
      "9\n",
      "10\n",
      "1 2 3 4 5 6 7 8 9\n",
      "4\n"
     ]
    }
   ],
   "source": [
    "## 1940 주몽\n",
    "\n",
    "n = int(input())\n",
    "m = int(input())\n",
    "arr = sorted(list(map(int, input().split())))\n",
    "\n",
    "a = 0\n",
    "b = n - 1\n",
    "count = 0\n",
    "\n",
    "while a < b:\n",
    "    s = arr[a] + arr[b]\n",
    "    if s == m:\n",
    "        count += 1\n",
    "    \n",
    "    if s >= m:\n",
    "        b -= 1\n",
    "    elif s < m:\n",
    "        a += 1\n",
    "\n",
    "print(count)\n",
    "\n",
    "## 위의 문제와 비슷하지만, 인덱싱이 추가된 문제였습니다."
   ]
  },
  {
   "cell_type": "code",
   "execution_count": 128,
   "id": "27367ee0",
   "metadata": {},
   "outputs": [
    {
     "name": "stdout",
     "output_type": "stream",
     "text": [
      "3\n",
      "-5 5 0\n",
      "1\n"
     ]
    }
   ],
   "source": [
    "### 1253 좋다\n",
    "\n",
    "n = int(input())\n",
    "arr = sorted(list(map(int, input().split())))\n",
    "count = 0\n",
    "\n",
    "if n < 3:\n",
    "    print(0)\n",
    "\n",
    "else:\n",
    "    for i in range(n):\n",
    "        a = 0\n",
    "        b = n-1\n",
    "        \n",
    "        if a == i : a += 1\n",
    "        if b == i : b -= 1\n",
    "        \n",
    "        while a < b:\n",
    "\n",
    "            s = arr[a] + arr[b]\n",
    "            if (s == arr[i]) :\n",
    "                count += 1\n",
    "                break\n",
    "\n",
    "            if s >= arr[i]:\n",
    "                b -= 1\n",
    "                if b == i:\n",
    "                    b -= 1\n",
    "\n",
    "            elif s < arr[i]:\n",
    "                a += 1\n",
    "                if a == i:\n",
    "                    a += 1\n",
    "        \n",
    "    print(count)\n",
    "    \n",
    "## 한 시간 반 넘게 갖다 박았습니다!!\n",
    "## 골드 4 짜리 문제인 줄 알았으면 조금 더 슬렁슬렁 푸는 건데,\n",
    "## 문제가 쉬워보인다고 이거 못 푸냐고 자책하면서 풀었습니다.\n",
    "\n",
    "## 투포인터 문제인데, 모든 값에 대해서 값을 돌리는 동시에, start와 end 값이 자기 자신과 일치한다면,\n",
    "## 한 칸 더 이동하는 방식으로 풀었습니다."
   ]
  }
 ],
 "metadata": {
  "kernelspec": {
   "display_name": "Python 3 (ipykernel)",
   "language": "python",
   "name": "python3"
  },
  "language_info": {
   "codemirror_mode": {
    "name": "ipython",
    "version": 3
   },
   "file_extension": ".py",
   "mimetype": "text/x-python",
   "name": "python",
   "nbconvert_exporter": "python",
   "pygments_lexer": "ipython3",
   "version": "3.10.9"
  }
 },
 "nbformat": 4,
 "nbformat_minor": 5
}
